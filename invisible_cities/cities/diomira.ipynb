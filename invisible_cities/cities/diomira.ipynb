{
 "cells": [
  {
   "cell_type": "markdown",
   "metadata": {},
   "source": [
    "# Diomira NB"
   ]
  },
  {
   "cell_type": "markdown",
   "metadata": {},
   "source": [
    "This notebook describes and shows the workings of the city of DIOMIRA, which simulates NEXT energy and tracking plane response (sensors and electronics).\n",
    "\n",
    "authors: J.J. Gomez-Cadenas, V. Herrero and G. Martinez\n"
   ]
  },
  {
   "cell_type": "code",
   "execution_count": null,
   "metadata": {
    "collapsed": true
   },
   "outputs": [],
   "source": [
    "import datetime"
   ]
  },
  {
   "cell_type": "code",
   "execution_count": null,
   "metadata": {
    "collapsed": false
   },
   "outputs": [],
   "source": [
    "print(datetime.datetime.now().strftime('%Y-%m-%d %H:%M:%S'))"
   ]
  },
  {
   "cell_type": "markdown",
   "metadata": {},
   "source": [
    "## DIOMIRA (Calvino, invisible cities)\n",
    "\n",
    "Leaving there and proceeding for three days toward the east, you reach Diomira,\n",
    "a city with sixty silver domes, bronze statues of all the gods, streets paved\n",
    "with lead, a crystal theater, a golden cock that crows every morning on a\n",
    "tower. All these beauties will already be familiar to the visitor, who has seen\n",
    "them also in other cities. But the special quality of this city for the man who\n",
    "arrives there on a September evening, when the days are growing shorter and the\n",
    "multicolored lamps are lighted all at once at the doors of the food stalls and\n",
    "from a terrace a woman's voice cries ooh!, is that he feels envy toward those\n",
    "who now believe they have once before lived an evening identical to this and\n",
    "who think they were happy, that time."
   ]
  },
  {
   "cell_type": "markdown",
   "metadata": {},
   "source": [
    "## The IC city of DIOMIRA"
   ]
  },
  {
   "cell_type": "markdown",
   "metadata": {},
   "source": [
    "Diomira simulates the response of the energy plane and tracking plane sensors.\n",
    "\n",
    "The response of the NEXT detector to ionizing radiation (e.g, an interaction produced by a bb decay or a background event such as a photon or alpha particle interaction) is, in general, an ionization trail. For example, a 2.5 MeV electron produced by a bb decay or a photoelectric interaction induced by a high-energy gamma produced in the Bi-214 chain, propagates by some 10-20 cm in dense gas (at a pressure of ~10 bar). Ionization electrons ejected through the electron path will drift towards the anode and will be amplified in the EL grid. Each ionization electron produces up to 1,000 photons (depending on EL field), which are emitted isotropically, thus reaching the sensors in the anode (SiPMs) and in the cathode (PMTs).\n",
    "\n",
    "The input to DIMORA are the so-called Monte Carlo Raw Data (MCRD) files, produced by the NEXUS simulation. The MCRD files describe the \"true response\" of the NEXT sensors to the photon irradiation associated with an event. Photons are propagated through the chamber, and those reaching the sensors are eventually converted in a physical signal (photoelectrons or PES). The MCRD files contain vectors of PES for each sensor in the anode (tracking plane) and cathode (energy plane). The sampling rate in the PMTs of the energy plane is 1 ns (to allow a detailed simulation of the response of the front-end electronics, which runs at 40 MHz), while the sampling rate in the SiPMs is 1 mus, corresponding to the sampling rate of 1MHZ.\n",
    "\n",
    "The response of the energy plane is simulated by the function:\n",
    "\n",
    "**simulate_pmt_response(event, pmtrd)** which takes as arguments the event number and a vector of raw-data waveforms (input current in photoelectrons, sampled each ns, for each PMT in the energy plane). \n",
    "\n",
    "while the response of the tracking plane is simulated by the function:\n",
    "\n",
    "**simulate_sipm_response(event, sipmrd, sipms_noise_sampler)** which takes as arguments the event number a vector of raw-data waveforms (input current in photoelectrons, sampled each mus, for each SiPM in the energy plane), and an instance of a noiser class that adds noise to each SiPM. \n",
    "\n",
    "Both functions are described below in more detail below.\n",
    "\n",
    "The output of **simulate_pmt_response** is a vector of containing NPMT waveforms (where NPMT is the number of PMTs in the energy plane). Each waveform is a vector of (tipically) 48,000 samples, corresponding to a DAQ window of 1.2 ms at a sampling rate of 40 MHz. The RWFs represent the response of the energy plane front-end electronics (FEE) to the input photoelectron current. The RWF include the effect of the FEE (convolution with LPF and HPF filters), the effect of the DAQ (sampling at 25 ns), and add the noise of FEE and DAQ. The details of the simulation are described elswhere. \n",
    "\n",
    "The RWFs are stored in a 3D array called \n",
    "**pmtrwf([event] [npmt] [waveform])**\n",
    " \n",
    "\n",
    "In addition to pmtwrf, function **simulate_pmt_response** also produces a vector **pmtblr([event] [npmt] [waveform])**. \n",
    "\n",
    "The so called basline restored (or BLR) waveforms correspond to the case of an ideal electronic which does not distort the input waveform (e.g, the photoelectron current). \n",
    "\n",
    "The output of **simulate_sipm_response** is a vector containing NSiPM waveforms (where NSiPM is the number of SiPMs in the tracking plane). Each waveform is a vector of (tipically) 1200 samples, corresponding to a DAQ window of 1.2 ms at a sampling rate of 1 MHz. This is stored in a 3D array called \n",
    "**sipmrwf([event] [npmt] [waveform])**\n",
    "\n"
   ]
  },
  {
   "cell_type": "markdown",
   "metadata": {},
   "source": [
    "## simulate_pmt_response\n",
    "\n",
    "1. Instances of **SPE** (single photoelectron) and **FEE** (front-end electronics) classes.\n",
    "\n",
    "**spe = FE.SPE()**\n",
    "       \n",
    "**fee = FE.FEE(noise_FEEPMB_rms=FE.NOISE_I, noise_DAQ_rms=FE.NOISE_DAQ)**\n",
    "\n",
    "2. Loop over all PMTs in the energy plane. For each PMT:\n",
    "\n",
    "1. The input (true) current is computed as the convolution of the waveform of single photoelectrons (pmtrd) with the pulse (signal current) corresponding to a single photoelectron (SPE) \n",
    "\n",
    "**signal_i = FE.spe_pulse_from_vector(spe, pmtrd[event, pmt])**\n",
    "\n",
    "2. The effect of the DAQ is simulated, decimating the input signal\n",
    "\n",
    "**signal_d = FE.daq_decimator(FE.f_mc, FE.f_sample, signal_i)**\n",
    "\n",
    "3. Effect of FEE and transform to adc counts\n",
    "\n",
    "**signal_fee = FE.signal_v_fee(fee, signal_d, pmt) * FE.v_to_adc()**\n",
    "\n",
    "4. Add noise daq\n",
    "            \n",
    "**signal_daq = cc * FE.noise_adc(fee, signal_fee)**\n",
    "\n",
    "5. The RWF are baseline-shifted and sign-changed (to conform to data format)\n",
    "**FE.OFFSET - signal_daq**\n",
    "\n",
    "6. Compute BLR functions (LPF only no HPF)\n",
    "\n",
    "Return a vector of RWF (one element per RWF) and a vector of BLR (one element per BLR)\n"
   ]
  },
  {
   "cell_type": "markdown",
   "metadata": {},
   "source": [
    "## SiPM response\n",
    "\n",
    "The simulation of the SiPM response simply adds noise (electronics and dark current noise) to the true photoelectrons and returns the total signal in adc counts\n",
    "\n",
    "**dataSiPM = sipmrd[event] + sipms_noise_sampler.Sample()**\n",
    "\n",
    "The noise sampler stores PDFs of each SiPM total noise. For each event those PDFs are sampled and the resulting noise added to the signal. \n",
    "        "
   ]
  },
  {
   "cell_type": "code",
   "execution_count": null,
   "metadata": {
    "collapsed": true
   },
   "outputs": [],
   "source": [
    "from __future__ import print_function\n",
    "import sys\n",
    "import os\n",
    "from glob import glob\n",
    "from time import time"
   ]
  },
  {
   "cell_type": "code",
   "execution_count": null,
   "metadata": {
    "collapsed": false
   },
   "outputs": [],
   "source": [
    "%matplotlib inline\n",
    "%load_ext autoreload\n",
    "%autoreload 2\n",
    "import matplotlib.pyplot as plt\n",
    "import pandas as pd\n",
    "import tables as tb\n",
    "import numpy as np\n",
    "import math"
   ]
  },
  {
   "cell_type": "code",
   "execution_count": null,
   "metadata": {
    "collapsed": false
   },
   "outputs": [],
   "source": [
    "import invisible_cities.core.tbl_functions as tbl\n",
    "from invisible_cities.core.configure import configure, print_configuration\n",
    "from invisible_cities.core.nh5 import FEE\n",
    "import invisible_cities.core.mpl_functions as mpl\n",
    "import invisible_cities.core.wfm_functions as wfm\n",
    "from invisible_cities.core.random_sampling\\\n",
    "     import NoiseSampler as SiPMsNoiseSampler\n",
    "from invisible_cities.database import load_db\n",
    "import invisible_cities.sierpe.fee as FE"
   ]
  },
  {
   "cell_type": "code",
   "execution_count": null,
   "metadata": {
    "collapsed": true
   },
   "outputs": [],
   "source": [
    "from invisible_cities.cities.diomira import Diomira"
   ]
  },
  {
   "cell_type": "code",
   "execution_count": null,
   "metadata": {
    "collapsed": false
   },
   "outputs": [],
   "source": [
    "import invisible_cities.sierpe.blr as blr"
   ]
  },
  {
   "cell_type": "code",
   "execution_count": null,
   "metadata": {
    "collapsed": false
   },
   "outputs": [],
   "source": [
    "DataPMT = load_db.DataPMT()"
   ]
  },
  {
   "cell_type": "markdown",
   "metadata": {},
   "source": [
    "## Run example configuration"
   ]
  },
  {
   "cell_type": "markdown",
   "metadata": {},
   "source": [
    "### Configuration file"
   ]
  },
  {
   "cell_type": "code",
   "execution_count": null,
   "metadata": {
    "collapsed": false
   },
   "outputs": [],
   "source": [
    "os.environ['IC_NOTEBOOK_DIR'] "
   ]
  },
  {
   "cell_type": "markdown",
   "metadata": {},
   "source": [
    "Below an example of configuration file for Diomira. The main variables to set are the input file path and name list (in the example a single file), the output path and file, print frequency, number of events to run and the noise cut (in pes) for the SiPMs. \n",
    "\n",
    "The noise cut is discussed later in the NB"
   ]
  },
  {
   "cell_type": "raw",
   "metadata": {},
   "source": [
    "# set_input_files\n",
    "PATH_IN $IC_NOTEBOOK_DIR/files/\n",
    "FILE_IN electrons_40keV_z250_MCRD.h5\n",
    "\n",
    "# set_output_file\n",
    "PATH_OUT $IC_NOTEBOOK_DIR/files/\n",
    "FILE_OUT electrons_40keV_z250_RWF.h5\n",
    "COMPRESSION ZLIB4\n",
    "\n",
    "# set_print\n",
    "NPRINT 1\n",
    "\n",
    "# set sipm noise cut (in pes)\n",
    "NOISE_CUT 20\n",
    "\n",
    "# run\n",
    "NEVENTS 10\n",
    "RUN_ALL False\n"
   ]
  },
  {
   "cell_type": "code",
   "execution_count": null,
   "metadata": {
    "collapsed": true
   },
   "outputs": [],
   "source": [
    "conf_file= os.environ['IC_NOTEBOOK_DIR']  + '/config/diomira.conf'"
   ]
  },
  {
   "cell_type": "markdown",
   "metadata": {},
   "source": [
    "### Input file for DIOMIRA"
   ]
  },
  {
   "cell_type": "markdown",
   "metadata": {},
   "source": [
    "An example MCRD file, with 10 events, is added to the Notebooks repository"
   ]
  },
  {
   "cell_type": "code",
   "execution_count": null,
   "metadata": {
    "collapsed": true
   },
   "outputs": [],
   "source": [
    "MCRD_file = os.environ['IC_NOTEBOOK_DIR']  + '/files/electrons_40keV_z250_MCRD.h5'"
   ]
  },
  {
   "cell_type": "markdown",
   "metadata": {},
   "source": [
    "### Temporary file for the output of DIOMIRA"
   ]
  },
  {
   "cell_type": "markdown",
   "metadata": {},
   "source": [
    "The output of Diomira must go to a temporary file that is deleted after execution (since the file can change many times it cannot be a stable file committed to the repository)"
   ]
  },
  {
   "cell_type": "code",
   "execution_count": null,
   "metadata": {
    "collapsed": false
   },
   "outputs": [],
   "source": [
    "# This RWF file is produced as output of DIOMIRA. \n",
    "RWF_file= os.environ['IC_NOTEBOOK_DIR']  + '/files/electrons_40keV_z250_RWF_TMP.h5'\n",
    "\n",
    "# era any previous temporary file\n",
    "try:\n",
    "    os.system(\"rm -f {}\".format(RWF_file))\n",
    "except(IOError):\n",
    "    pass"
   ]
  },
  {
   "cell_type": "markdown",
   "metadata": {
    "collapsed": true
   },
   "source": [
    "### Running diomira"
   ]
  },
  {
   "cell_type": "code",
   "execution_count": null,
   "metadata": {
    "collapsed": false
   },
   "outputs": [],
   "source": [
    "# function configure reads the configuration file and returns a dictionary of options\n",
    "CFP = configure(['DIOMIRA','-c', conf_file, '-i', MCRD_file, '-o', RWF_file])\n",
    "\n",
    "# init machine\n",
    "fpp = Diomira()\n",
    "# set machine state throught the parameters read from config file\n",
    "files_in = glob(CFP['FILE_IN'])\n",
    "files_in.sort()\n",
    "fpp.set_input_files(files_in)\n",
    "fpp.set_output_file(CFP['FILE_OUT'],\n",
    "                        compression=CFP['COMPRESSION'])\n",
    "fpp.set_print(nprint=CFP['NPRINT'])\n",
    "fpp.set_sipm_noise_cut(noise_cut=CFP[\"NOISE_CUT\"])\n",
    "\n",
    "# run for nevts\n",
    "nevts = CFP['NEVENTS'] if not CFP['RUN_ALL'] else -1\n",
    "t0 = time()\n",
    "nevt = fpp.run(nmax=nevts)\n",
    "t1 = time()\n",
    "dt = t1 - t0\n",
    "print(\"DIOMIRA run {} evts in {} s, time/event = {}\".\\\n",
    "      format(nevt, dt, dt/nevt))\n"
   ]
  },
  {
   "cell_type": "markdown",
   "metadata": {},
   "source": [
    "#### Diomira: speed and file size:\n",
    "\n",
    "runs at: ~0.5 s/event on i-7 processor 3.5 Ghz (speed almost certainly limited by disk access)\n",
    "files size\n",
    "\n",
    "-rw-r--r--  1 jjgomezcadenas  staff   1.1M Jan 14 20:21 electrons_40keV_z250_MCRD.h5\n",
    "-rw-r--r--  1 jjgomezcadenas  staff   1.5M Jan 15 10:03 electrons_40keV_z250_RWF.h5\n",
    "\n",
    "MCRD files (produced by NEXUS MC): 110 kB/event\n",
    "RWF files (output of DIOMIRA): 150 kB/event"
   ]
  },
  {
   "cell_type": "markdown",
   "metadata": {},
   "source": [
    "##  Energy plane"
   ]
  },
  {
   "cell_type": "markdown",
   "metadata": {},
   "source": [
    "### Comparison between BLR and CWF"
   ]
  },
  {
   "cell_type": "markdown",
   "metadata": {},
   "source": [
    "The input to the simulation of the energy plane are MCRD waveform, e.g, vectors of photoelectrons sampled each ns. NEW has 12 PMTs (NEXT-100 has around 60). The DAQ window is tipically ~1.2 ms. Thus, MCRD vectors contain 1.2 M samples. Most of those samples are zero, however, and can be handled efficiently by a smart compressor. IC relies on the PyTable library to write data in hdf5 format. Several compressors are available and can be set at the configuration level. ZLIB at compression level 4 yields good results. \n",
    "\n",
    "Diomira reads the MCRD vectors and produces raw waveforms (RWF) sampled each 40 ns. The RWF reflect the effect of the LPF and HPF filters introduced by the front-end electronics (FEE). Diomira also produce BLR (baseline restored) waveforms, which simply add the LPF filter. BLRs correspond to the response of an ideal FEE which does not distort the waveform. \n",
    "\n",
    "CWF (corrected waveforms) are the result of passing a blr (base line restorarion) algorithm to the RWFs. If the blr algorithm is perfect, then CWF and BLR waveforms must be identical.\n",
    "\n",
    "The algorithm below does the following:\n",
    "1) Reads the RWF and BLR waveforms in the RWF file produced by the previous cell\n",
    "2) Computes CWF files passing a blr algorithm.\n",
    "3) Returns the differences (in area) between CWF and BLR"
   ]
  },
  {
   "cell_type": "code",
   "execution_count": null,
   "metadata": {
    "collapsed": true
   },
   "outputs": [],
   "source": [
    "def diomira_cwf_blr(ffile, n_evt=10, plot=False):\n",
    "    \"\"\" 1) Reads the RWF and BLR waveforms in the RWF file produced by the previous cell\n",
    "        2) Computes CWF files passing a blr algorithm.\n",
    "        3) Returns the differences (in area) between CWF and BLR\n",
    "    \"\"\"\n",
    "    e40rwf= tb.open_file(ffile,'r+')\n",
    "    pmtrwf = e40rwf.root.RD.pmtrwf\n",
    "    pmtblr = e40rwf.root.RD.pmtblr\n",
    "    DataPMT = load_db.DataPMT(0)\n",
    "    coeff_c = DataPMT.coeff_c.values.astype(np.double)\n",
    "    coeff_blr = DataPMT.coeff_blr.values.astype(np.double)\n",
    "    \n",
    "    DIFF = []\n",
    "    for event in range(n_evt):\n",
    "        if plot == True:\n",
    "            mpl.plot_waveforms(pmtrwf[event], zoom=True, window_size=600)\n",
    "            plt.show()\n",
    "            # input('Raw waveforms: return to continue')\n",
    "            mpl.plot_waveforms(pmtblr[event], zoom=True, window_size=600)\n",
    "            plt.show()\n",
    "            # input('BLR waveforms: return to continue')\n",
    "            \n",
    "        BLR = pmtblr[event]\n",
    "        CWF = blr.deconv_pmt(pmtrwf[event], coeff_c, coeff_blr,\n",
    "                     n_baseline=28000, thr_trigger=5)\n",
    "        if plot == True:\n",
    "            mpl.plot_blr_cwf(pmtblr[event], CWF, zoom=True, window_size=600)\n",
    "            plt.show()\n",
    "            #input('BLR vs CWF waveforms: return to continue')\n",
    "            \n",
    "        for i, _ in enumerate(CWF):\n",
    "            diff = abs(np.sum(BLR[i][5000:5100]) - np.sum(CWF[i][5000:5100]))\n",
    "            diff = 100. * diff/np.sum(BLR[i])\n",
    "            DIFF.append(diff)\n",
    "    return np.array(DIFF)"
   ]
  },
  {
   "cell_type": "code",
   "execution_count": null,
   "metadata": {
    "collapsed": false
   },
   "outputs": [],
   "source": [
    "diff = diomira_cwf_blr(RWF_file, n_evt=10, plot=False)"
   ]
  },
  {
   "cell_type": "code",
   "execution_count": null,
   "metadata": {
    "collapsed": false
   },
   "outputs": [],
   "source": [
    "mpl.histo(diff, nbins=10, \n",
    "          title=\"diff BLR-CWF\", xlabel=\"abs(e[blr] - e[cwf])\", ylabel=\"Frequency\")"
   ]
  },
  {
   "cell_type": "markdown",
   "metadata": {},
   "source": [
    "The histogram above shows the difference (in %) between the BLR function (e.g, only the effect of LPF) and the CWF (e.g, corrected waveform). The CWF is the result of producing a RWF (through DIOMIRA) and then passing a baseline restoration algorithm. There are 12 entries (one per PMT) for each of the 10 events in the example file. The tipical difference in absolute value between the CWF and the BLR is of the order of 0.3 % and essentially never larger than 0.5 %. The data is 40 keV electrons, corresponding to the energy range of kripton signals. "
   ]
  },
  {
   "cell_type": "code",
   "execution_count": null,
   "metadata": {
    "collapsed": false
   },
   "outputs": [],
   "source": [
    "diff = diomira_cwf_blr(RWF_file, n_evt=1, plot=True)"
   ]
  },
  {
   "cell_type": "markdown",
   "metadata": {},
   "source": [
    "The set of plots above show, for one event:\n",
    "1. The RWFs for each PMT, where the effect of the HPF is evident (the RWF are negative in sign and with a baseline at ~2500 adc counts, to emulate the behaviour of the DAQ in real data).\n",
    "2. The BLR functions, which only include the effect of the LPF (no distortion).\n",
    "3. The CWF (in green) superimposed to the BLR (one cannot disitinguish one from the other)"
   ]
  },
  {
   "cell_type": "code",
   "execution_count": null,
   "metadata": {
    "collapsed": false
   },
   "outputs": [],
   "source": [
    "def plot_cwf_blr(ffile, event, pmt, xi=4900, xf=5200):\n",
    "    \"\"\"Draw CWF and BLR waveform togethers for selected event and pmt %.\n",
    "    \"\"\"\n",
    "    e40rwf= tb.open_file(ffile,'r+')\n",
    "    pmtrwf = e40rwf.root.RD.pmtrwf\n",
    "    pmtblr = e40rwf.root.RD.pmtblr\n",
    "    DataPMT = load_db.DataPMT(0)\n",
    "    coeff_c = DataPMT.coeff_c.values.astype(np.double)\n",
    "    coeff_blr = DataPMT.coeff_blr.values.astype(np.double)\n",
    "    \n",
    "        \n",
    "    \n",
    "    CWF = blr.deconv_pmt(pmtrwf[event], coeff_c, coeff_blr,\n",
    "                     n_baseline=28000, thr_trigger=5)\n",
    "        \n",
    "    plt.plot(pmtblr[event,pmt][xi:xf])\n",
    "    plt.plot(CWF[pmt][xi:xf])\n",
    "        \n",
    "    plt.show()\n",
    "            "
   ]
  },
  {
   "cell_type": "code",
   "execution_count": null,
   "metadata": {
    "collapsed": false
   },
   "outputs": [],
   "source": [
    "plot_cwf_blr(RWF_file, event=0, pmt=0, xi=4800, xf=5200)"
   ]
  },
  {
   "cell_type": "code",
   "execution_count": null,
   "metadata": {
    "collapsed": false
   },
   "outputs": [],
   "source": [
    "plot_cwf_blr(RWF_file, event=9, pmt=11, xi=4800, xf=5200)"
   ]
  },
  {
   "cell_type": "markdown",
   "metadata": {},
   "source": [
    "The two examples above show the BLR and CWF wavefroms superimposed for two different events and two different PMTs. In both cases the eye cannot distinguish between both waveforms."
   ]
  },
  {
   "cell_type": "markdown",
   "metadata": {},
   "source": [
    "## Tracking plane"
   ]
  },
  {
   "cell_type": "markdown",
   "metadata": {},
   "source": [
    "The tracking plane of NEW has 1792 SiPMs arranged in boards of 8x8 sensors. The SiPMs FEE runs at 1 MHz, providing one sample per microsecond.\n",
    "\n",
    "The simulatin of the SiPms is very simple. Each MCRD contains the true number of pes in the sensor. Then, for each sensor, gaussian noise (corresponding to electronics and sensor thermal noise) and dark current noise is added. This is done through a SiPm noise sampler class, which stores the pdf of the noise in each sensor (measured from data) and returns a sample of this pdf each time that is invoked. "
   ]
  },
  {
   "cell_type": "code",
   "execution_count": null,
   "metadata": {
    "collapsed": false
   },
   "outputs": [],
   "source": [
    "\n",
    "e40rd = tb.open_file(MCRD_file,'r+')\n",
    "NEVENTS_DST, NSIPM, SIPMWL = e40rd.root.sipmrd.shape"
   ]
  },
  {
   "cell_type": "code",
   "execution_count": null,
   "metadata": {
    "collapsed": false
   },
   "outputs": [],
   "source": [
    "print('number of SiPM = {}, waveform length = {}'.format(NSIPM,SIPMWL))"
   ]
  },
  {
   "cell_type": "code",
   "execution_count": null,
   "metadata": {
    "collapsed": true
   },
   "outputs": [],
   "source": [
    "DataSiPM = load_db.DataSiPM(0)\n",
    "sipm_adc_to_pes = DataSiPM.adc_to_pes.values.astype(np.double)"
   ]
  },
  {
   "cell_type": "markdown",
   "metadata": {},
   "source": [
    "Conversion constants (number of adc counts per PES)"
   ]
  },
  {
   "cell_type": "code",
   "execution_count": null,
   "metadata": {
    "collapsed": false
   },
   "outputs": [],
   "source": [
    "plt.plot(sipm_adc_to_pes)"
   ]
  },
  {
   "cell_type": "markdown",
   "metadata": {},
   "source": [
    "### Nb\n",
    "A few constants have values equal to zero, corresponding to dead SiPMs in the data. The average number of adc counts per pes is very flat (e.g, about the same for all SiPMs) and near 16. "
   ]
  },
  {
   "cell_type": "code",
   "execution_count": null,
   "metadata": {
    "collapsed": false
   },
   "outputs": [],
   "source": [
    "mpl.histo(sipm_adc_to_pes[sipm_adc_to_pes>0], nbins=20)"
   ]
  },
  {
   "cell_type": "code",
   "execution_count": null,
   "metadata": {
    "collapsed": false
   },
   "outputs": [],
   "source": [
    "np.mean(sipm_adc_to_pes[sipm_adc_to_pes>0])"
   ]
  },
  {
   "cell_type": "code",
   "execution_count": null,
   "metadata": {
    "collapsed": false
   },
   "outputs": [],
   "source": [
    "np.std(sipm_adc_to_pes[sipm_adc_to_pes>0])"
   ]
  },
  {
   "cell_type": "markdown",
   "metadata": {},
   "source": [
    "Thus, one pes corresponds to 16 adc counts with a small rms of ~0.6 counts."
   ]
  },
  {
   "cell_type": "markdown",
   "metadata": {},
   "source": [
    "### Simulation of the SiPM response"
   ]
  },
  {
   "cell_type": "markdown",
   "metadata": {},
   "source": [
    "It is instructive to reproduce the simulation of the SiPM response from the MCRD, to study the dependence with noise."
   ]
  },
  {
   "cell_type": "code",
   "execution_count": null,
   "metadata": {
    "collapsed": true
   },
   "outputs": [],
   "source": [
    "def simulate_sipm_response(event, sipmrd, \n",
    "                           sipm_adc_to_pes,\n",
    "                           sipms_noise_sampler):\n",
    "        \"\"\"Add noise with the NoiseSampler class and return\n",
    "        the noisy waveform (in pes).\"\"\"\n",
    "        # add noise (in PES) to true waveform\n",
    "        dataSiPM = sipmrd[event] + sipms_noise_sampler.Sample()\n",
    "        # return total signal in adc counts\n",
    "        return wfm.to_adc(dataSiPM, sipm_adc_to_pes)"
   ]
  },
  {
   "cell_type": "code",
   "execution_count": null,
   "metadata": {
    "collapsed": true
   },
   "outputs": [],
   "source": [
    "noise_sampler = SiPMsNoiseSampler(SIPMWL, True)"
   ]
  },
  {
   "cell_type": "code",
   "execution_count": null,
   "metadata": {
    "collapsed": false
   },
   "outputs": [],
   "source": [
    "event=0\n",
    "sipmrwf = simulate_sipm_response(event, \n",
    "                                 e40rd.root.sipmrd, \n",
    "                                 sipm_adc_to_pes,\n",
    "                                 noise_sampler)"
   ]
  },
  {
   "cell_type": "markdown",
   "metadata": {},
   "source": [
    "most of the SiPMs contain only noise"
   ]
  },
  {
   "cell_type": "code",
   "execution_count": null,
   "metadata": {
    "collapsed": false
   },
   "outputs": [],
   "source": [
    "plt.plot(sipmrwf[0])"
   ]
  },
  {
   "cell_type": "markdown",
   "metadata": {},
   "source": [
    "###  NB: \n",
    "The noise distribution has an rms of about 3 counts, with dark current at the level of 1-2 pes (~30 adc counts) superimposed. "
   ]
  },
  {
   "cell_type": "markdown",
   "metadata": {},
   "source": [
    "#### Find the SiPMs with signal"
   ]
  },
  {
   "cell_type": "code",
   "execution_count": null,
   "metadata": {
    "collapsed": false
   },
   "outputs": [],
   "source": [
    "def sipm_with_signal(sipmrwf, thr=50):\n",
    "    \"\"\"Find the SiPMs with signal in this event\"\"\"\n",
    "    SIPML = []\n",
    "    for i in range(sipmrwf.shape[0]):\n",
    "        if np.sum(sipmrwf[i] > thr):\n",
    "            SIPML.append(i)\n",
    "    return np.array(SIPML)"
   ]
  },
  {
   "cell_type": "markdown",
   "metadata": {},
   "source": [
    "select sipms with more than 20 pes (e.g, 300 adc counts)"
   ]
  },
  {
   "cell_type": "code",
   "execution_count": null,
   "metadata": {
    "collapsed": false
   },
   "outputs": [],
   "source": [
    "sipm_i = sipm_with_signal(sipmrwf, thr=300)"
   ]
  },
  {
   "cell_type": "code",
   "execution_count": null,
   "metadata": {
    "collapsed": false
   },
   "outputs": [],
   "source": [
    "sipm_i"
   ]
  },
  {
   "cell_type": "markdown",
   "metadata": {},
   "source": [
    "draw a map of SiPms with signal"
   ]
  },
  {
   "cell_type": "code",
   "execution_count": null,
   "metadata": {
    "collapsed": true
   },
   "outputs": [],
   "source": [
    "def plot_ene_sipm(sipmrwf, sipm_i, radius=3):\n",
    "        \"\"\"\n",
    "        plots the reconstructed energy of the SiPMs\n",
    "        input: sipm dictionary\n",
    "        \"\"\"\n",
    "        xs = DataSiPM.X.values\n",
    "        ys = DataSiPM.Y.values\n",
    "        r = np.ones(len(xs)) * radius\n",
    "        col = np.zeros(len(xs))\n",
    "        for i in sipm_i:\n",
    "            sipm = sipmrwf[i]\n",
    "            col[i] = np.sum(sipm)\n",
    "\n",
    "        plt.figure(figsize=(10, 10))\n",
    "        plt.subplot(aspect=\"equal\")\n",
    "        mpl.circles(xs, ys, r, c=col, alpha=0.5, ec=\"none\")\n",
    "        plt.colorbar()\n",
    "\n",
    "        plt.xlim(-198, 198)\n",
    "        plt.ylim(-198, 198)"
   ]
  },
  {
   "cell_type": "code",
   "execution_count": null,
   "metadata": {
    "collapsed": false
   },
   "outputs": [],
   "source": [
    "plot_ene_sipm(sipmrwf, sipm_i)"
   ]
  },
  {
   "cell_type": "markdown",
   "metadata": {},
   "source": [
    "plot SiPMs with signal "
   ]
  },
  {
   "cell_type": "code",
   "execution_count": null,
   "metadata": {
    "collapsed": true
   },
   "outputs": [],
   "source": [
    "def plot_sipms(sipmrwf, sipm_i):\n",
    "    \"\"\"plot the waveforms of the SiPMs with signal.\"\"\"\n",
    "    nsipm = len(sipm_i)\n",
    "    xw = 3\n",
    "    yw = int(nsipm/xw) + 1\n",
    "    plt.figure(figsize=(12, 12))\n",
    "    for i, ni in enumerate(sipm_i):\n",
    "        plt.subplot(xw, yw, i+1)\n",
    "        mpl.set_plot_labels(xlabel=\"sipm = {}\".format(ni), ylabel=\"adc\")\n",
    "        plt.plot(sipmrwf[ni])\n",
    "\n",
    "    plt.show()"
   ]
  },
  {
   "cell_type": "code",
   "execution_count": null,
   "metadata": {
    "collapsed": false
   },
   "outputs": [],
   "source": [
    "plot_sipms(sipmrwf, sipm_i)"
   ]
  },
  {
   "cell_type": "code",
   "execution_count": null,
   "metadata": {
    "collapsed": false
   },
   "outputs": [],
   "source": [
    "esipm = np.array([np.sum(sipmrwf[i]) for i in sipm_i]) # in pes"
   ]
  },
  {
   "cell_type": "code",
   "execution_count": null,
   "metadata": {
    "collapsed": false
   },
   "outputs": [],
   "source": [
    "print(esipm/16.) # in adc counts"
   ]
  },
  {
   "cell_type": "code",
   "execution_count": null,
   "metadata": {
    "collapsed": false
   },
   "outputs": [],
   "source": [
    "mpl.histo(esipm/16., nbins=10)"
   ]
  },
  {
   "cell_type": "markdown",
   "metadata": {},
   "source": [
    "#### NB\n",
    "We can see the noise bin separated from the signal bins. To exagerate the effect, on can reduce the energy cut, for example to 2 pes"
   ]
  },
  {
   "cell_type": "code",
   "execution_count": null,
   "metadata": {
    "collapsed": true
   },
   "outputs": [],
   "source": [
    "sipm_i = sipm_with_signal(sipmrwf, thr=30)"
   ]
  },
  {
   "cell_type": "code",
   "execution_count": null,
   "metadata": {
    "collapsed": false
   },
   "outputs": [],
   "source": [
    "esipm = np.array([np.sum(sipmrwf[i]) for i in sipm_i])\n",
    "mpl.histo(esipm[esipm>0]/16., nbins=10)"
   ]
  },
  {
   "cell_type": "markdown",
   "metadata": {},
   "source": [
    "#### Noise suppression\n",
    "\n",
    "In Diomira SiPms are stored after noise suppression. This is done as follows."
   ]
  },
  {
   "cell_type": "markdown",
   "metadata": {},
   "source": [
    "First define sipm thresholds (in adc counts). As shown a cut on 20 pes is good "
   ]
  },
  {
   "cell_type": "code",
   "execution_count": null,
   "metadata": {
    "collapsed": false
   },
   "outputs": [],
   "source": [
    "sipm_noise_cut = 20\n",
    "sipms_thresholds = sipm_noise_cut *  sipm_adc_to_pes\n",
    "plt.plot(sipms_thresholds)"
   ]
  },
  {
   "cell_type": "markdown",
   "metadata": {},
   "source": [
    "Second compute the number of SiPMs above threshold"
   ]
  },
  {
   "cell_type": "code",
   "execution_count": null,
   "metadata": {
    "collapsed": true
   },
   "outputs": [],
   "source": [
    "sipmzs = wfm.noise_suppression(sipmrwf, sipms_thresholds)"
   ]
  },
  {
   "cell_type": "markdown",
   "metadata": {},
   "source": [
    "The sipmzs vector replaces by exact zeros those samples below threshold (this allows the compressor in pytables to save storage space). Thus, for example, the first sipm has no samples above threshold."
   ]
  },
  {
   "cell_type": "code",
   "execution_count": null,
   "metadata": {
    "collapsed": false
   },
   "outputs": [],
   "source": [
    "plt.plot(sipmzs[0])"
   ]
  },
  {
   "cell_type": "markdown",
   "metadata": {},
   "source": [
    "while for sipm 696, we can see a clear signal above threshold. "
   ]
  },
  {
   "cell_type": "code",
   "execution_count": null,
   "metadata": {
    "collapsed": false
   },
   "outputs": [],
   "source": [
    "plt.plot(sipmzs[696])"
   ]
  },
  {
   "cell_type": "code",
   "execution_count": null,
   "metadata": {
    "collapsed": false
   },
   "outputs": [],
   "source": [
    "def nof_sipm_signal(sipmzs):\n",
    "    \"\"\"Number of SiPms with signal in zs waveform\"\"\"\n",
    "    nsipm = 0\n",
    "    for j in range(sipmzs.shape[0]):\n",
    "        if np.sum(sipmzs[j] >0):\n",
    "            nsipm+=1\n",
    "    return nsipm"
   ]
  },
  {
   "cell_type": "code",
   "execution_count": null,
   "metadata": {
    "collapsed": false
   },
   "outputs": [],
   "source": [
    "print('number of sipm with signal = {}'.format(nof_sipm_signal(sipmzs)))"
   ]
  },
  {
   "cell_type": "markdown",
   "metadata": {},
   "source": [
    "### Erase temporary file"
   ]
  },
  {
   "cell_type": "code",
   "execution_count": null,
   "metadata": {
    "collapsed": false
   },
   "outputs": [],
   "source": [
    "try:\n",
    "    os.system(\"rm -f {}\".format(RWF_file))\n",
    "except(IOError):\n",
    "    pass"
   ]
  },
  {
   "cell_type": "markdown",
   "metadata": {},
   "source": [
    "#### End of NB"
   ]
  }
 ],
 "metadata": {
  "anaconda-cloud": {},
  "git": {
   "suppress_outputs": true
  },
  "kernelspec": {
   "display_name": "Python [conda env:IC3.5]",
   "language": "python",
   "name": "conda-env-IC3.5-py"
  },
  "language_info": {
   "codemirror_mode": {
    "name": "ipython",
    "version": 3
   },
   "file_extension": ".py",
   "mimetype": "text/x-python",
   "name": "python",
   "nbconvert_exporter": "python",
   "pygments_lexer": "ipython3",
   "version": "3.5.2"
  }
 },
 "nbformat": 4,
 "nbformat_minor": 2
}
